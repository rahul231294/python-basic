{
  "nbformat": 4,
  "nbformat_minor": 0,
  "metadata": {
    "colab": {
      "provenance": []
    },
    "kernelspec": {
      "name": "python3",
      "display_name": "Python 3"
    },
    "language_info": {
      "name": "python"
    }
  },
  "cells": [
    {
      "cell_type": "code",
      "execution_count": null,
      "metadata": {
        "id": "1oAekHCxiKgZ"
      },
      "outputs": [],
      "source": []
    },
    {
      "cell_type": "markdown",
      "source": [
        "1.what is python,why is it popular?\n",
        "  -Python is a popular programming language that's used for many tasks, including web development, data science, and game development. It's easy to learn, efficient, and can run on many different platforms.  \n",
        "2.What is an interpreter in Python?\n",
        "  -A Python interpreter is a program that reads and executes Python code. It translates Python code into instructions that the computer can understand.\n",
        "3.What are pre-defined keywords in Python?\n",
        "  -Keywords are pre-defined and reserved words in python. These words are not allowed to use by users as identifiers, function names, or variables. These keywords define the syntax of the python language. Python keywords are case sensitive, As of now python 3.8 has 35 keywords.\n",
        "4.Can keywords be used as variable names?\n",
        "  -No, you should not use keywords as variable names because they can lead to confusion and errors.\n",
        "5.What is mutability in Python?\n",
        "  -In Python, mutability is the ability of an object to be changed after it is created. Mutable objects can be modified without creating a new object.\n",
        "6.Why are lists mutable, but tuples are immutable?\n",
        "  -Tuples and lists are the same in every way except two: tuples use parentheses instead of square brackets, and the items in tuples cannot be modified (but the items in lists can be modified). We often call lists mutable (meaning they can be changed) and tuples immutable (meaning they cannot be changed).\n",
        "7.What is the difference between “==” and “is” operators in Python?\n",
        " -Difference between == and is operators in Python\n",
        "The '==' is known as the equality operator. The 'is' is known as the identity operator. The == operator helps us compare the equality of objects. The is operator helps us check whether different variables point towards a similar object in the memory.\n",
        "8.What are logical operators in Python?\n",
        " -Logical operators in Python are symbols that evaluate conditions and perform logical operations, such as \"and\", \"or\", and \"not\". They are also called Boolean operators because they convert operands to Boolean values (True or False).\n",
        "9.What is type casting in Python?\n",
        " -In Python, type casting (also known as type conversion) is the process of converting a variable's data type to another, often using built-in functions like int(), float(), and str().\n",
        "10.What is the difference between implicit and explicit type casting?\n",
        "  -Implicit type casting (also known as widening or automatic conversion) happens automatically by the compiler, while explicit type casting (or type casting) requires the programmer to manually specify the conversion using a casting operator.\n",
        "11.What is the purpose of conditional statements in Python?\n",
        "  -The purpose of conditional statements in Python is to control the flow of code execution based on certain conditions. This can help make code more efficient and easier to read.\n",
        "12.How does the elif statement work?\n",
        "  -An elif statement works on the following principle,\n",
        "execute the block of code inside the first elif statement if the expression inside it evaluates True. After execution return to the code out of the if block. execute the block of code inside the second elif statement if the expression inside it evaluates True.\n",
        "13.What is the difference between for and while loops?\n",
        "  -For loops and while loops are both used to repeat actions, but they differ in how they function.\n",
        "14. Describe a scenario where a while loop is more suitable than a for loop?\n",
        "  -In contrast to a 'for' loop, which is generally used when the number of iterations is known beforehand, a 'while' loop is ideal for situations where the number of iterations is not predetermined and depends on some dynamic condition."
      ],
      "metadata": {
        "id": "ZiTj3QFtMfy3"
      }
    },
    {
      "cell_type": "markdown",
      "source": [],
      "metadata": {
        "id": "Y-HECUqdMNDK"
      }
    },
    {
      "cell_type": "code",
      "source": [
        "#question1\n",
        "print(\"hello world\")\n",
        "#question2\n",
        "Name=(\"rahul\")\n",
        "age=(\"29\")\n",
        "print(\"name\")\n",
        "print(\"age\")\n",
        "#question4\n",
        "print(f\"'{s}' is a Python keyword.\")\n",
        "print(f\"'{s}' is not a Python keyword.\")\n",
        "#question5\n",
        "fruits = [\"apple\", \"banana\", \"cherry\"]\n",
        "print(fruits[0]) # Output: apple\n",
        "#question6\n",
        "def f(ParamList):\n",
        "    b = ParamList[1]\n",
        "    a = ParamList[0]\n",
        "    print('id(ParamList[0]), id(a)', id(ParamList[0]), id(a))\n",
        "    a, b = Problemmaker(a,b)\n",
        "    print('a, b, ParamList', a, b, ParamList)\n",
        "\n",
        "def Problemmaker(a,b):\n",
        "    a[2]=99\n",
        "    print('id(a)', id(a))\n",
        "    b = 55\n",
        "    return a,b\n",
        "\n",
        "if __name__ == \"__main__\":\n",
        "    Initial = [[2,3,4],2]\n",
        "\n",
        "    f(Initial)\n",
        "#question7\n",
        "a = 10\n",
        "b = 10\n",
        "c = -10\n",
        "if a > 0 and b > 0:\n",
        "    print(\"The numbers are greater than 0\")\n",
        "if a > 0 and b > 0 and c > 0:\n",
        "    print(\"The numbers are greater than 0\")\n",
        "    print(\"Atleast one number is not greater than 0\")\n",
        "a = 10\n",
        "b = 12\n",
        "c = 0\n",
        "if a and b and c:\n",
        "    print(\"All the numbers have boolean value as True\")\n",
        "    print(\"Atleast one number has boolean value as False\")\n",
        "    print(\"none of the numbers have boolean value as felse\")\n",
        "  #or logic\n",
        "  a = 10\n",
        "b = -10\n",
        "c = 0\n",
        "if a > 0 or b > 0:\n",
        "    print(\"Either of the number is greater than 0\")\n",
        "else:\n",
        "    print(\"No number is greater than 0\")\n",
        "if b > 0 or c > 0:\n",
        "    print(\"Either of the number is greater than 0\")\n",
        "    print(\"No number is greater than 0\")\n",
        "#question9\n",
        "# Convert a string to an integer\n",
        "numeric_string = \"42\"\n",
        "converted_integer = int(numeric_string)\n",
        "print(converted_integer)\n",
        "# Convert a string to a float\n",
        "decimal_string = \"3.14\"\n",
        "converted_float = float(decimal_string)\n",
        "print(converted_float)\n",
        "#question11\n",
        "# The following code checks if a number is positive, negative or 0\n",
        "\n",
        "# Taking user input\n",
        "number = int(input(\"Enter a number : \"))\n",
        "\n",
        "# Condition checking\n",
        "\n",
        "# if the number is greater than 0, then positive\n",
        "# else if the number is lesser than 0, then negative\n",
        "# else number is 0\n",
        "if number>0:\n",
        "  print(number, \"is positive.\")\n",
        "elif number<0:\n",
        "  print(number, \"is negative.\")\n",
        "else:\n",
        "  print(\"Number is 0.\")\n",
        "#question12\n",
        "rint(\"Print integers 1 to 10 using for loop:\")\n",
        "for i in range(1, 11):\n",
        " # iterates for 10 times\n",
        "    print(i)\n",
        "#question13\n",
        "num = int(input('6: '))\n",
        "sum = 0\n",
        "i = 4\n",
        "while i <= num:\n",
        "    if i % 2 == 0:\n",
        "        print(i)\n",
        "        sum+=i\n",
        "    i+=1\n",
        "print(f\"Sum of all the even numbers is {sum}\")\n",
        "#question14\n",
        "name= str((input(\"Enter the name: \")))\n",
        "i = len(name) - 1\n",
        "\n",
        "while i >= 0:\n",
        "    print(name[i], end = '')\n",
        "    i = i - 1\n",
        "#question15\n",
        "# accept input number from user\n",
        "n = int(input(\"Enter any number: \"))\n",
        "\n",
        "# logic to calculate the factorial of a number\n",
        "f = 1\n",
        "while n >= 1:\n",
        "    f *= n\n",
        "    n -= 1\n",
        "\n",
        "# print output\n",
        "print(\"Factorial is\", f)\n",
        "\n",
        "\n",
        "\n",
        "\n",
        "\n",
        "\n"
      ],
      "metadata": {
        "id": "w6TO3S7-MRZg",
        "colab": {
          "base_uri": "https://localhost:8080/"
        },
        "outputId": "63d9e5c2-92ce-4e30-cbf4-78dc00bf73cd"
      },
      "execution_count": 2,
      "outputs": [
        {
          "output_type": "stream",
          "name": "stdout",
          "text": [
            "hello world\n"
          ]
        }
      ]
    },
    {
      "cell_type": "markdown",
      "source": [],
      "metadata": {
        "id": "ge2EnEMJQMQe"
      }
    }
  ]
}